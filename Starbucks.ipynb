{
 "cells": [
  {
   "cell_type": "markdown",
   "metadata": {},
   "source": [
    "## Portfolio Exercise: Starbucks\n",
    "<br>\n",
    "\n",
    "<img src=\"https://opj.ca/wp-content/uploads/2018/02/New-Starbucks-Logo-1200x969.jpg\" width=\"200\" height=\"200\">\n",
    "<br>\n",
    "<br>\n",
    " \n",
    "#### Background Information\n",
    "\n",
    "The dataset you will be provided in this portfolio exercise was originally used as a take-home assignment provided by Starbucks for their job candidates. The data for this exercise consists of about 120,000 data points split in a 2:1 ratio among training and test files. In the experiment simulated by the data, an advertising promotion was tested to see if it would bring more customers to purchase a specific product priced at $10. Since it costs the company 0.15 to send out each promotion, it would be best to limit that promotion only to those that are most receptive to the promotion. Each data point includes one column indicating whether or not an individual was sent a promotion for the product, and one column indicating whether or not that individual eventually purchased that product. Each individual also has seven additional features associated with them, which are provided abstractly as V1-V7.\n",
    "\n",
    "#### Optimization Strategy\n",
    "\n",
    "Your task is to use the training data to understand what patterns in V1-V7 to indicate that a promotion should be provided to a user. Specifically, your goal is to maximize the following metrics:\n",
    "\n",
    "* **Incremental Response Rate (IRR)** \n",
    "\n",
    "IRR depicts how many more customers purchased the product with the promotion, as compared to if they didn't receive the promotion. Mathematically, it's the ratio of the number of purchasers in the promotion group to the total number of customers in the purchasers group (_treatment_) minus the ratio of the number of purchasers in the non-promotional group to the total number of customers in the non-promotional group (_control_).\n",
    "\n",
    "$$ IRR = \\frac{purch_{treat}}{cust_{treat}} - \\frac{purch_{ctrl}}{cust_{ctrl}} $$\n",
    "\n",
    "\n",
    "* **Net Incremental Revenue (NIR)**\n",
    "\n",
    "NIR depicts how much is made (or lost) by sending out the promotion. Mathematically, this is 10 times the total number of purchasers that received the promotion minus 0.15 times the number of promotions sent out, minus 10 times the number of purchasers who were not given the promotion.\n",
    "\n",
    "$$ NIR = (10\\cdot purch_{treat} - 0.15 \\cdot cust_{treat}) - 10 \\cdot purch_{ctrl}$$\n",
    "\n",
    "For a full description of what Starbucks provides to candidates see the [instructions available here](https://drive.google.com/open?id=18klca9Sef1Rs6q8DW4l7o349r8B70qXM).\n",
    "\n",
    "Below you can find the training data provided.  Explore the data and different optimization strategies.\n",
    "\n",
    "#### How To Test Your Strategy?\n",
    "\n",
    "When you feel like you have an optimization strategy, complete the `promotion_strategy` function to pass to the `test_results` function.  \n",
    "From past data, we know there are four possible outomes:\n",
    "\n",
    "Table of actual promotion vs. predicted promotion customers:  \n",
    "\n",
    "<table>\n",
    "<tr><th></th><th colspan = '2'>Actual</th></tr>\n",
    "<tr><th>Predicted</th><th>Yes</th><th>No</th></tr>\n",
    "<tr><th>Yes</th><td>I</td><td>II</td></tr>\n",
    "<tr><th>No</th><td>III</td><td>IV</td></tr>\n",
    "</table>\n",
    "\n",
    "The metrics are only being compared for the individuals we predict should obtain the promotion – that is, quadrants I and II.  Since the first set of individuals that receive the promotion (in the training set) receive it randomly, we can expect that quadrants I and II will have approximately equivalent participants.  \n",
    "\n",
    "Comparing quadrant I to II then gives an idea of how well your promotion strategy will work in the future. \n",
    "\n",
    "Get started by reading in the data below.  See how each variable or combination of variables along with a promotion influences the chance of purchasing.  When you feel like you have a strategy for who should receive a promotion, test your strategy against the test dataset used in the final `test_results` function."
   ]
  },
  {
   "cell_type": "markdown",
   "metadata": {},
   "source": [
    "## **1 - Understanding the data**"
   ]
  },
  {
   "cell_type": "code",
   "execution_count": 1,
   "metadata": {
    "scrolled": false
   },
   "outputs": [
    {
     "data": {
      "text/html": [
       "<div>\n",
       "<style scoped>\n",
       "    .dataframe tbody tr th:only-of-type {\n",
       "        vertical-align: middle;\n",
       "    }\n",
       "\n",
       "    .dataframe tbody tr th {\n",
       "        vertical-align: top;\n",
       "    }\n",
       "\n",
       "    .dataframe thead th {\n",
       "        text-align: right;\n",
       "    }\n",
       "</style>\n",
       "<table border=\"1\" class=\"dataframe\">\n",
       "  <thead>\n",
       "    <tr style=\"text-align: right;\">\n",
       "      <th></th>\n",
       "      <th>ID</th>\n",
       "      <th>Promotion</th>\n",
       "      <th>purchase</th>\n",
       "      <th>V1</th>\n",
       "      <th>V2</th>\n",
       "      <th>V3</th>\n",
       "      <th>V4</th>\n",
       "      <th>V5</th>\n",
       "      <th>V6</th>\n",
       "      <th>V7</th>\n",
       "    </tr>\n",
       "  </thead>\n",
       "  <tbody>\n",
       "    <tr>\n",
       "      <th>0</th>\n",
       "      <td>1</td>\n",
       "      <td>No</td>\n",
       "      <td>0</td>\n",
       "      <td>2</td>\n",
       "      <td>30.443518</td>\n",
       "      <td>-1.165083</td>\n",
       "      <td>1</td>\n",
       "      <td>1</td>\n",
       "      <td>3</td>\n",
       "      <td>2</td>\n",
       "    </tr>\n",
       "    <tr>\n",
       "      <th>1</th>\n",
       "      <td>3</td>\n",
       "      <td>No</td>\n",
       "      <td>0</td>\n",
       "      <td>3</td>\n",
       "      <td>32.159350</td>\n",
       "      <td>-0.645617</td>\n",
       "      <td>2</td>\n",
       "      <td>3</td>\n",
       "      <td>2</td>\n",
       "      <td>2</td>\n",
       "    </tr>\n",
       "    <tr>\n",
       "      <th>2</th>\n",
       "      <td>4</td>\n",
       "      <td>No</td>\n",
       "      <td>0</td>\n",
       "      <td>2</td>\n",
       "      <td>30.431659</td>\n",
       "      <td>0.133583</td>\n",
       "      <td>1</td>\n",
       "      <td>1</td>\n",
       "      <td>4</td>\n",
       "      <td>2</td>\n",
       "    </tr>\n",
       "    <tr>\n",
       "      <th>3</th>\n",
       "      <td>5</td>\n",
       "      <td>No</td>\n",
       "      <td>0</td>\n",
       "      <td>0</td>\n",
       "      <td>26.588914</td>\n",
       "      <td>-0.212728</td>\n",
       "      <td>2</td>\n",
       "      <td>1</td>\n",
       "      <td>4</td>\n",
       "      <td>2</td>\n",
       "    </tr>\n",
       "    <tr>\n",
       "      <th>4</th>\n",
       "      <td>8</td>\n",
       "      <td>Yes</td>\n",
       "      <td>0</td>\n",
       "      <td>3</td>\n",
       "      <td>28.044332</td>\n",
       "      <td>-0.385883</td>\n",
       "      <td>1</td>\n",
       "      <td>1</td>\n",
       "      <td>2</td>\n",
       "      <td>2</td>\n",
       "    </tr>\n",
       "  </tbody>\n",
       "</table>\n",
       "</div>"
      ],
      "text/plain": [
       "   ID Promotion  purchase  V1         V2        V3  V4  V5  V6  V7\n",
       "0   1        No         0   2  30.443518 -1.165083   1   1   3   2\n",
       "1   3        No         0   3  32.159350 -0.645617   2   3   2   2\n",
       "2   4        No         0   2  30.431659  0.133583   1   1   4   2\n",
       "3   5        No         0   0  26.588914 -0.212728   2   1   4   2\n",
       "4   8       Yes         0   3  28.044332 -0.385883   1   1   2   2"
      ]
     },
     "execution_count": 1,
     "metadata": {},
     "output_type": "execute_result"
    }
   ],
   "source": [
    "# load in packages\n",
    "from itertools import combinations\n",
    "\n",
    "from test_results import test_results, score\n",
    "import numpy as np\n",
    "import pandas as pd\n",
    "import scipy as sp\n",
    "import sklearn as sk\n",
    "\n",
    "from sklearn.model_selection import train_test_split, GridSearchCV\n",
    "from sklearn.pipeline import Pipeline\n",
    "from sklearn.ensemble import RandomForestClassifier\n",
    "from sklearn.metrics import confusion_matrix\n",
    "from sklearn.metrics import classification_report\n",
    "from sklearn.ensemble import AdaBoostClassifier\n",
    "from sklearn.tree import DecisionTreeClassifier\n",
    "from sklearn.preprocessing import MinMaxScaler, StandardScaler\n",
    "import matplotlib.pyplot as plt\n",
    "import seaborn as sns\n",
    "%matplotlib inline\n",
    "\n",
    "# load in the data\n",
    "train_data = pd.read_csv('./training.csv')\n",
    "train_data.head()"
   ]
  },
  {
   "cell_type": "code",
   "execution_count": 2,
   "metadata": {},
   "outputs": [
    {
     "data": {
      "text/plain": [
       "(84534, 10)"
      ]
     },
     "execution_count": 2,
     "metadata": {},
     "output_type": "execute_result"
    }
   ],
   "source": [
    "train_data.shape"
   ]
  },
  {
   "cell_type": "code",
   "execution_count": 3,
   "metadata": {
    "scrolled": true
   },
   "outputs": [
    {
     "name": "stdout",
     "output_type": "stream",
     "text": [
      "<class 'pandas.core.frame.DataFrame'>\n",
      "RangeIndex: 84534 entries, 0 to 84533\n",
      "Data columns (total 10 columns):\n",
      "ID           84534 non-null int64\n",
      "Promotion    84534 non-null object\n",
      "purchase     84534 non-null int64\n",
      "V1           84534 non-null int64\n",
      "V2           84534 non-null float64\n",
      "V3           84534 non-null float64\n",
      "V4           84534 non-null int64\n",
      "V5           84534 non-null int64\n",
      "V6           84534 non-null int64\n",
      "V7           84534 non-null int64\n",
      "dtypes: float64(2), int64(7), object(1)\n",
      "memory usage: 6.4+ MB\n"
     ]
    }
   ],
   "source": [
    "train_data.info()"
   ]
  },
  {
   "cell_type": "code",
   "execution_count": 5,
   "metadata": {},
   "outputs": [
    {
     "data": {
      "text/plain": [
       "ID           0\n",
       "Promotion    0\n",
       "purchase     0\n",
       "V1           0\n",
       "V2           0\n",
       "V3           0\n",
       "V4           0\n",
       "V5           0\n",
       "V6           0\n",
       "V7           0\n",
       "dtype: int64"
      ]
     },
     "execution_count": 5,
     "metadata": {},
     "output_type": "execute_result"
    }
   ],
   "source": [
    "#Checking if there's any missing values\n",
    "train_data.isnull().sum()"
   ]
  },
  {
   "cell_type": "code",
   "execution_count": 6,
   "metadata": {
    "scrolled": true
   },
   "outputs": [
    {
     "data": {
      "text/html": [
       "<div>\n",
       "<style scoped>\n",
       "    .dataframe tbody tr th:only-of-type {\n",
       "        vertical-align: middle;\n",
       "    }\n",
       "\n",
       "    .dataframe tbody tr th {\n",
       "        vertical-align: top;\n",
       "    }\n",
       "\n",
       "    .dataframe thead th {\n",
       "        text-align: right;\n",
       "    }\n",
       "</style>\n",
       "<table border=\"1\" class=\"dataframe\">\n",
       "  <thead>\n",
       "    <tr style=\"text-align: right;\">\n",
       "      <th></th>\n",
       "      <th>ID</th>\n",
       "      <th>purchase</th>\n",
       "      <th>V1</th>\n",
       "      <th>V2</th>\n",
       "      <th>V3</th>\n",
       "      <th>V4</th>\n",
       "      <th>V5</th>\n",
       "      <th>V6</th>\n",
       "      <th>V7</th>\n",
       "    </tr>\n",
       "  </thead>\n",
       "  <tbody>\n",
       "    <tr>\n",
       "      <th>count</th>\n",
       "      <td>84534.000000</td>\n",
       "      <td>84534.000000</td>\n",
       "      <td>84534.000000</td>\n",
       "      <td>84534.000000</td>\n",
       "      <td>84534.000000</td>\n",
       "      <td>84534.000000</td>\n",
       "      <td>84534.000000</td>\n",
       "      <td>84534.000000</td>\n",
       "      <td>84534.000000</td>\n",
       "    </tr>\n",
       "    <tr>\n",
       "      <th>mean</th>\n",
       "      <td>62970.972413</td>\n",
       "      <td>0.012303</td>\n",
       "      <td>1.500662</td>\n",
       "      <td>29.973600</td>\n",
       "      <td>0.000190</td>\n",
       "      <td>1.679608</td>\n",
       "      <td>2.327643</td>\n",
       "      <td>2.502898</td>\n",
       "      <td>1.701694</td>\n",
       "    </tr>\n",
       "    <tr>\n",
       "      <th>std</th>\n",
       "      <td>36418.440539</td>\n",
       "      <td>0.110234</td>\n",
       "      <td>0.868234</td>\n",
       "      <td>5.010626</td>\n",
       "      <td>1.000485</td>\n",
       "      <td>0.466630</td>\n",
       "      <td>0.841167</td>\n",
       "      <td>1.117349</td>\n",
       "      <td>0.457517</td>\n",
       "    </tr>\n",
       "    <tr>\n",
       "      <th>min</th>\n",
       "      <td>1.000000</td>\n",
       "      <td>0.000000</td>\n",
       "      <td>0.000000</td>\n",
       "      <td>7.104007</td>\n",
       "      <td>-1.684550</td>\n",
       "      <td>1.000000</td>\n",
       "      <td>1.000000</td>\n",
       "      <td>1.000000</td>\n",
       "      <td>1.000000</td>\n",
       "    </tr>\n",
       "    <tr>\n",
       "      <th>25%</th>\n",
       "      <td>31467.250000</td>\n",
       "      <td>0.000000</td>\n",
       "      <td>1.000000</td>\n",
       "      <td>26.591501</td>\n",
       "      <td>-0.905350</td>\n",
       "      <td>1.000000</td>\n",
       "      <td>2.000000</td>\n",
       "      <td>2.000000</td>\n",
       "      <td>1.000000</td>\n",
       "    </tr>\n",
       "    <tr>\n",
       "      <th>50%</th>\n",
       "      <td>62827.500000</td>\n",
       "      <td>0.000000</td>\n",
       "      <td>2.000000</td>\n",
       "      <td>29.979744</td>\n",
       "      <td>-0.039572</td>\n",
       "      <td>2.000000</td>\n",
       "      <td>2.000000</td>\n",
       "      <td>3.000000</td>\n",
       "      <td>2.000000</td>\n",
       "    </tr>\n",
       "    <tr>\n",
       "      <th>75%</th>\n",
       "      <td>94438.750000</td>\n",
       "      <td>0.000000</td>\n",
       "      <td>2.000000</td>\n",
       "      <td>33.344593</td>\n",
       "      <td>0.826206</td>\n",
       "      <td>2.000000</td>\n",
       "      <td>3.000000</td>\n",
       "      <td>4.000000</td>\n",
       "      <td>2.000000</td>\n",
       "    </tr>\n",
       "    <tr>\n",
       "      <th>max</th>\n",
       "      <td>126184.000000</td>\n",
       "      <td>1.000000</td>\n",
       "      <td>3.000000</td>\n",
       "      <td>50.375913</td>\n",
       "      <td>1.691984</td>\n",
       "      <td>2.000000</td>\n",
       "      <td>4.000000</td>\n",
       "      <td>4.000000</td>\n",
       "      <td>2.000000</td>\n",
       "    </tr>\n",
       "  </tbody>\n",
       "</table>\n",
       "</div>"
      ],
      "text/plain": [
       "                  ID      purchase            V1            V2            V3  \\\n",
       "count   84534.000000  84534.000000  84534.000000  84534.000000  84534.000000   \n",
       "mean    62970.972413      0.012303      1.500662     29.973600      0.000190   \n",
       "std     36418.440539      0.110234      0.868234      5.010626      1.000485   \n",
       "min         1.000000      0.000000      0.000000      7.104007     -1.684550   \n",
       "25%     31467.250000      0.000000      1.000000     26.591501     -0.905350   \n",
       "50%     62827.500000      0.000000      2.000000     29.979744     -0.039572   \n",
       "75%     94438.750000      0.000000      2.000000     33.344593      0.826206   \n",
       "max    126184.000000      1.000000      3.000000     50.375913      1.691984   \n",
       "\n",
       "                 V4            V5            V6            V7  \n",
       "count  84534.000000  84534.000000  84534.000000  84534.000000  \n",
       "mean       1.679608      2.327643      2.502898      1.701694  \n",
       "std        0.466630      0.841167      1.117349      0.457517  \n",
       "min        1.000000      1.000000      1.000000      1.000000  \n",
       "25%        1.000000      2.000000      2.000000      1.000000  \n",
       "50%        2.000000      2.000000      3.000000      2.000000  \n",
       "75%        2.000000      3.000000      4.000000      2.000000  \n",
       "max        2.000000      4.000000      4.000000      2.000000  "
      ]
     },
     "execution_count": 6,
     "metadata": {},
     "output_type": "execute_result"
    }
   ],
   "source": [
    "#Checking the statistics related to numeric variables of the dataframe\n",
    "train_data.describe()"
   ]
  },
  {
   "cell_type": "markdown",
   "metadata": {},
   "source": [
    "## **2 - Checking the invariant metric**\n",
    "\n",
    "The focus here is to check if the random process of assignment to control and experimental groups is ok (we expect 50/50 split)\n",
    "\n",
    "In order to check that, we are going to generate a binomial distribution with number of trials of dataset, p and n_trials randoms, analyse times that each sample is greater than the bigger event of success and times that sample is lower than the low event. We set an alpha equals to 0.05 (in case of a p-value higher than 0.05 we keep the null hypothesis)"
   ]
  },
  {
   "cell_type": "code",
   "execution_count": 16,
   "metadata": {},
   "outputs": [
    {
     "data": {
      "text/plain": [
       "84534"
      ]
     },
     "execution_count": 16,
     "metadata": {},
     "output_type": "execute_result"
    }
   ],
   "source": [
    "n_obs = train_data.shape[0]\n",
    "n_obs"
   ]
  },
  {
   "cell_type": "code",
   "execution_count": 17,
   "metadata": {},
   "outputs": [
    {
     "data": {
      "text/plain": [
       "0.0022949345825348799"
      ]
     },
     "execution_count": 17,
     "metadata": {},
     "output_type": "execute_result"
    }
   ],
   "source": [
    "diff_c_t = train_data['Promotion'].value_counts(normalize=True)[0] - train_data['Promotion'].value_counts(normalize=True)[1]\n",
    "diff_c_t\n"
   ]
  },
  {
   "cell_type": "code",
   "execution_count": 18,
   "metadata": {},
   "outputs": [
    {
     "data": {
      "text/plain": [
       "1.0046004268437279"
      ]
     },
     "execution_count": 18,
     "metadata": {},
     "output_type": "execute_result"
    }
   ],
   "source": [
    "train_data['Promotion'].value_counts(normalize=True)[0] / train_data['Promotion'].value_counts(normalize=True)[1]"
   ]
  },
  {
   "cell_type": "code",
   "execution_count": 19,
   "metadata": {},
   "outputs": [
    {
     "data": {
      "text/plain": [
       "42364"
      ]
     },
     "execution_count": 19,
     "metadata": {},
     "output_type": "execute_result"
    }
   ],
   "source": [
    "n_exp = train_data.groupby('Promotion').size()[1]\n",
    "n_exp"
   ]
  },
  {
   "cell_type": "code",
   "execution_count": 20,
   "metadata": {},
   "outputs": [],
   "source": [
    "p = 0.5\n",
    "n = 200000\n",
    "\n",
    "samples = np.random.binomial(n_obs, p, n)"
   ]
  },
  {
   "cell_type": "code",
   "execution_count": 21,
   "metadata": {},
   "outputs": [
    {
     "name": "stdout",
     "output_type": "stream",
     "text": [
      "p-value: 0.50521\n"
     ]
    }
   ],
   "source": [
    "print(\"p-value: {}\".format(np.logical_or(samples >= n_exp, samples <= (n_obs - n_exp)).mean()))"
   ]
  },
  {
   "cell_type": "markdown",
   "metadata": {},
   "source": [
    "**Comment: Since we found a p-value higher than 0.05, we accept that there is no significant difference between the groups**"
   ]
  },
  {
   "cell_type": "markdown",
   "metadata": {},
   "source": [
    "## **3 - Checking the evaluation metric**\n",
    "\n",
    "In this process the goal is to check if we have significant statistical difference between the control and experimental group. Is the group that receives the promotion more likely to buy our product? \n",
    "\n",
    "We are going to perform a hypothesis test, with a simulation approach \n",
    "\n",
    "We also set an aplpha of 0.05"
   ]
  },
  {
   "cell_type": "markdown",
   "metadata": {
    "collapsed": true
   },
   "source": [
    "H0: EXP - CTR <= 0\n",
    "H1: EXP - CTR > 0"
   ]
  },
  {
   "cell_type": "code",
   "execution_count": 23,
   "metadata": {
    "scrolled": true
   },
   "outputs": [
    {
     "data": {
      "text/html": [
       "<div>\n",
       "<style scoped>\n",
       "    .dataframe tbody tr th:only-of-type {\n",
       "        vertical-align: middle;\n",
       "    }\n",
       "\n",
       "    .dataframe tbody tr th {\n",
       "        vertical-align: top;\n",
       "    }\n",
       "\n",
       "    .dataframe thead th {\n",
       "        text-align: right;\n",
       "    }\n",
       "</style>\n",
       "<table border=\"1\" class=\"dataframe\">\n",
       "  <thead>\n",
       "    <tr style=\"text-align: right;\">\n",
       "      <th></th>\n",
       "      <th>ID</th>\n",
       "      <th>Promotion</th>\n",
       "      <th>purchase</th>\n",
       "      <th>V1</th>\n",
       "      <th>V2</th>\n",
       "      <th>V3</th>\n",
       "      <th>V4</th>\n",
       "      <th>V5</th>\n",
       "      <th>V6</th>\n",
       "      <th>V7</th>\n",
       "    </tr>\n",
       "  </thead>\n",
       "  <tbody>\n",
       "    <tr>\n",
       "      <th>0</th>\n",
       "      <td>1</td>\n",
       "      <td>No</td>\n",
       "      <td>0</td>\n",
       "      <td>2</td>\n",
       "      <td>30.443518</td>\n",
       "      <td>-1.165083</td>\n",
       "      <td>1</td>\n",
       "      <td>1</td>\n",
       "      <td>3</td>\n",
       "      <td>2</td>\n",
       "    </tr>\n",
       "    <tr>\n",
       "      <th>1</th>\n",
       "      <td>3</td>\n",
       "      <td>No</td>\n",
       "      <td>0</td>\n",
       "      <td>3</td>\n",
       "      <td>32.159350</td>\n",
       "      <td>-0.645617</td>\n",
       "      <td>2</td>\n",
       "      <td>3</td>\n",
       "      <td>2</td>\n",
       "      <td>2</td>\n",
       "    </tr>\n",
       "    <tr>\n",
       "      <th>2</th>\n",
       "      <td>4</td>\n",
       "      <td>No</td>\n",
       "      <td>0</td>\n",
       "      <td>2</td>\n",
       "      <td>30.431659</td>\n",
       "      <td>0.133583</td>\n",
       "      <td>1</td>\n",
       "      <td>1</td>\n",
       "      <td>4</td>\n",
       "      <td>2</td>\n",
       "    </tr>\n",
       "    <tr>\n",
       "      <th>3</th>\n",
       "      <td>5</td>\n",
       "      <td>No</td>\n",
       "      <td>0</td>\n",
       "      <td>0</td>\n",
       "      <td>26.588914</td>\n",
       "      <td>-0.212728</td>\n",
       "      <td>2</td>\n",
       "      <td>1</td>\n",
       "      <td>4</td>\n",
       "      <td>2</td>\n",
       "    </tr>\n",
       "    <tr>\n",
       "      <th>5</th>\n",
       "      <td>9</td>\n",
       "      <td>No</td>\n",
       "      <td>0</td>\n",
       "      <td>1</td>\n",
       "      <td>41.189415</td>\n",
       "      <td>-0.905350</td>\n",
       "      <td>2</td>\n",
       "      <td>4</td>\n",
       "      <td>4</td>\n",
       "      <td>1</td>\n",
       "    </tr>\n",
       "    <tr>\n",
       "      <th>6</th>\n",
       "      <td>11</td>\n",
       "      <td>No</td>\n",
       "      <td>0</td>\n",
       "      <td>1</td>\n",
       "      <td>40.690409</td>\n",
       "      <td>1.085939</td>\n",
       "      <td>2</td>\n",
       "      <td>2</td>\n",
       "      <td>1</td>\n",
       "      <td>2</td>\n",
       "    </tr>\n",
       "    <tr>\n",
       "      <th>7</th>\n",
       "      <td>14</td>\n",
       "      <td>No</td>\n",
       "      <td>0</td>\n",
       "      <td>2</td>\n",
       "      <td>25.971529</td>\n",
       "      <td>-1.424817</td>\n",
       "      <td>1</td>\n",
       "      <td>3</td>\n",
       "      <td>3</td>\n",
       "      <td>2</td>\n",
       "    </tr>\n",
       "    <tr>\n",
       "      <th>9</th>\n",
       "      <td>16</td>\n",
       "      <td>No</td>\n",
       "      <td>0</td>\n",
       "      <td>1</td>\n",
       "      <td>27.474650</td>\n",
       "      <td>0.566472</td>\n",
       "      <td>2</td>\n",
       "      <td>2</td>\n",
       "      <td>3</td>\n",
       "      <td>2</td>\n",
       "    </tr>\n",
       "  </tbody>\n",
       "</table>\n",
       "</div>"
      ],
      "text/plain": [
       "   ID Promotion  purchase  V1         V2        V3  V4  V5  V6  V7\n",
       "0   1        No         0   2  30.443518 -1.165083   1   1   3   2\n",
       "1   3        No         0   3  32.159350 -0.645617   2   3   2   2\n",
       "2   4        No         0   2  30.431659  0.133583   1   1   4   2\n",
       "3   5        No         0   0  26.588914 -0.212728   2   1   4   2\n",
       "5   9        No         0   1  41.189415 -0.905350   2   4   4   1\n",
       "6  11        No         0   1  40.690409  1.085939   2   2   1   2\n",
       "7  14        No         0   2  25.971529 -1.424817   1   3   3   2\n",
       "9  16        No         0   1  27.474650  0.566472   2   2   3   2"
      ]
     },
     "execution_count": 23,
     "metadata": {},
     "output_type": "execute_result"
    }
   ],
   "source": [
    "#Let's separate the groups from the original dataset (receives or not the promotion)\n",
    "train_data_ctr = train_data.query(\"Promotion=='No'\")\n",
    "train_data_ctr.head(8)"
   ]
  },
  {
   "cell_type": "code",
   "execution_count": 24,
   "metadata": {},
   "outputs": [
    {
     "data": {
      "text/html": [
       "<div>\n",
       "<style scoped>\n",
       "    .dataframe tbody tr th:only-of-type {\n",
       "        vertical-align: middle;\n",
       "    }\n",
       "\n",
       "    .dataframe tbody tr th {\n",
       "        vertical-align: top;\n",
       "    }\n",
       "\n",
       "    .dataframe thead th {\n",
       "        text-align: right;\n",
       "    }\n",
       "</style>\n",
       "<table border=\"1\" class=\"dataframe\">\n",
       "  <thead>\n",
       "    <tr style=\"text-align: right;\">\n",
       "      <th></th>\n",
       "      <th>ID</th>\n",
       "      <th>Promotion</th>\n",
       "      <th>purchase</th>\n",
       "      <th>V1</th>\n",
       "      <th>V2</th>\n",
       "      <th>V3</th>\n",
       "      <th>V4</th>\n",
       "      <th>V5</th>\n",
       "      <th>V6</th>\n",
       "      <th>V7</th>\n",
       "    </tr>\n",
       "  </thead>\n",
       "  <tbody>\n",
       "    <tr>\n",
       "      <th>4</th>\n",
       "      <td>8</td>\n",
       "      <td>Yes</td>\n",
       "      <td>0</td>\n",
       "      <td>3</td>\n",
       "      <td>28.044332</td>\n",
       "      <td>-0.385883</td>\n",
       "      <td>1</td>\n",
       "      <td>1</td>\n",
       "      <td>2</td>\n",
       "      <td>2</td>\n",
       "    </tr>\n",
       "    <tr>\n",
       "      <th>8</th>\n",
       "      <td>15</td>\n",
       "      <td>Yes</td>\n",
       "      <td>0</td>\n",
       "      <td>2</td>\n",
       "      <td>31.930423</td>\n",
       "      <td>0.393317</td>\n",
       "      <td>2</td>\n",
       "      <td>3</td>\n",
       "      <td>1</td>\n",
       "      <td>2</td>\n",
       "    </tr>\n",
       "    <tr>\n",
       "      <th>10</th>\n",
       "      <td>17</td>\n",
       "      <td>Yes</td>\n",
       "      <td>0</td>\n",
       "      <td>1</td>\n",
       "      <td>32.770916</td>\n",
       "      <td>-1.511395</td>\n",
       "      <td>2</td>\n",
       "      <td>1</td>\n",
       "      <td>4</td>\n",
       "      <td>1</td>\n",
       "    </tr>\n",
       "    <tr>\n",
       "      <th>12</th>\n",
       "      <td>20</td>\n",
       "      <td>Yes</td>\n",
       "      <td>0</td>\n",
       "      <td>1</td>\n",
       "      <td>36.957009</td>\n",
       "      <td>0.133583</td>\n",
       "      <td>2</td>\n",
       "      <td>3</td>\n",
       "      <td>1</td>\n",
       "      <td>1</td>\n",
       "    </tr>\n",
       "    <tr>\n",
       "      <th>14</th>\n",
       "      <td>22</td>\n",
       "      <td>Yes</td>\n",
       "      <td>0</td>\n",
       "      <td>3</td>\n",
       "      <td>36.911714</td>\n",
       "      <td>-0.905350</td>\n",
       "      <td>2</td>\n",
       "      <td>2</td>\n",
       "      <td>4</td>\n",
       "      <td>1</td>\n",
       "    </tr>\n",
       "    <tr>\n",
       "      <th>16</th>\n",
       "      <td>24</td>\n",
       "      <td>Yes</td>\n",
       "      <td>0</td>\n",
       "      <td>1</td>\n",
       "      <td>35.040920</td>\n",
       "      <td>-0.905350</td>\n",
       "      <td>2</td>\n",
       "      <td>4</td>\n",
       "      <td>2</td>\n",
       "      <td>2</td>\n",
       "    </tr>\n",
       "    <tr>\n",
       "      <th>18</th>\n",
       "      <td>27</td>\n",
       "      <td>Yes</td>\n",
       "      <td>0</td>\n",
       "      <td>1</td>\n",
       "      <td>35.632751</td>\n",
       "      <td>-0.212728</td>\n",
       "      <td>1</td>\n",
       "      <td>2</td>\n",
       "      <td>4</td>\n",
       "      <td>1</td>\n",
       "    </tr>\n",
       "    <tr>\n",
       "      <th>19</th>\n",
       "      <td>28</td>\n",
       "      <td>Yes</td>\n",
       "      <td>0</td>\n",
       "      <td>2</td>\n",
       "      <td>26.328708</td>\n",
       "      <td>1.605406</td>\n",
       "      <td>2</td>\n",
       "      <td>4</td>\n",
       "      <td>2</td>\n",
       "      <td>2</td>\n",
       "    </tr>\n",
       "  </tbody>\n",
       "</table>\n",
       "</div>"
      ],
      "text/plain": [
       "    ID Promotion  purchase  V1         V2        V3  V4  V5  V6  V7\n",
       "4    8       Yes         0   3  28.044332 -0.385883   1   1   2   2\n",
       "8   15       Yes         0   2  31.930423  0.393317   2   3   1   2\n",
       "10  17       Yes         0   1  32.770916 -1.511395   2   1   4   1\n",
       "12  20       Yes         0   1  36.957009  0.133583   2   3   1   1\n",
       "14  22       Yes         0   3  36.911714 -0.905350   2   2   4   1\n",
       "16  24       Yes         0   1  35.040920 -0.905350   2   4   2   2\n",
       "18  27       Yes         0   1  35.632751 -0.212728   1   2   4   1\n",
       "19  28       Yes         0   2  26.328708  1.605406   2   4   2   2"
      ]
     },
     "execution_count": 24,
     "metadata": {},
     "output_type": "execute_result"
    }
   ],
   "source": [
    "train_data_exp = train_data.query(\"Promotion=='Yes'\")\n",
    "train_data_exp.head(8)"
   ]
  },
  {
   "cell_type": "code",
   "execution_count": 25,
   "metadata": {},
   "outputs": [
    {
     "data": {
      "text/plain": [
       "0.0094545478197727018"
      ]
     },
     "execution_count": 25,
     "metadata": {},
     "output_type": "execute_result"
    }
   ],
   "source": [
    "#Register the difference\n",
    "diff_obs = train_data_exp['purchase'].mean() - train_data_ctr['purchase'].mean()\n",
    "diff_obs"
   ]
  },
  {
   "cell_type": "code",
   "execution_count": 26,
   "metadata": {},
   "outputs": [
    {
     "data": {
      "text/plain": [
       "2.2498378732282598"
      ]
     },
     "execution_count": 26,
     "metadata": {},
     "output_type": "execute_result"
    }
   ],
   "source": [
    "train_data_exp['purchase'].mean() / train_data_ctr['purchase'].mean()"
   ]
  },
  {
   "cell_type": "code",
   "execution_count": 27,
   "metadata": {},
   "outputs": [],
   "source": [
    "#Bootstrap method to resampling\n",
    "diff=[]\n",
    "\n",
    "for _ in range(10000):\n",
    "    samples = train_data.sample(n_obs, replace=True)\n",
    "    exp = samples.query(\"Promotion=='Yes'\")\n",
    "    ctr = samples.query(\"Promotion=='No'\")\n",
    "    pur_exp = exp.purchase.mean()\n",
    "    pur_ctr = ctr.purchase.mean()\n",
    "    diff.append(pur_exp - pur_ctr)"
   ]
  },
  {
   "cell_type": "code",
   "execution_count": 28,
   "metadata": {},
   "outputs": [
    {
     "data": {
      "text/plain": [
       "(array([  1.00000000e+00,   2.80000000e+01,   2.03000000e+02,\n",
       "          8.82000000e+02,   2.29700000e+03,   3.03100000e+03,\n",
       "          2.36400000e+03,   9.69000000e+02,   2.00000000e+02,\n",
       "          2.50000000e+01]),\n",
       " array([ 0.00611979,  0.00672529,  0.00733078,  0.00793628,  0.00854178,\n",
       "         0.00914727,  0.00975277,  0.01035826,  0.01096376,  0.01156926,\n",
       "         0.01217475]),\n",
       " <a list of 10 Patch objects>)"
      ]
     },
     "execution_count": 28,
     "metadata": {},
     "output_type": "execute_result"
    },
    {
     "data": {
      "image/png": "[encoded data removed]",
      "text/plain": [
       "<matplotlib.figure.Figure at 0x7f9029869518>"
      ]
     },
     "metadata": {
      "needs_background": "light"
     },
     "output_type": "display_data"
    }
   ],
   "source": [
    "#Checking our difference distribution\n",
    "diff = np.array(diff)\n",
    "plt.hist(diff)"
   ]
  },
  {
   "cell_type": "code",
   "execution_count": 29,
   "metadata": {},
   "outputs": [],
   "source": [
    "#Generating normal distributions with the mean centered at zero and standard deviation equals the one observed in our bootstrap method\n",
    "null_vals = np.random.normal(0, np.std(diff), 200000)"
   ]
  },
  {
   "cell_type": "code",
   "execution_count": 30,
   "metadata": {},
   "outputs": [
    {
     "data": {
      "text/plain": [
       "<matplotlib.lines.Line2D at 0x7f9029887c50>"
      ]
     },
     "execution_count": 30,
     "metadata": {},
     "output_type": "execute_result"
    },
    {
     "data": {
      "image/png": "[encoded data removed]",
      "text/plain": [
       "<matplotlib.figure.Figure at 0x7f902990ceb8>"
      ]
     },
     "metadata": {
      "needs_background": "light"
     },
     "output_type": "display_data"
    }
   ],
   "source": [
    "#Checking where our real observed difference is set in our values based in the null hypothesis (generated in the previous process)\n",
    "plt.hist(null_vals)\n",
    "plt.axvline(x=diff_obs, color='red')"
   ]
  },
  {
   "cell_type": "code",
   "execution_count": 31,
   "metadata": {},
   "outputs": [
    {
     "data": {
      "text/plain": [
       "'p-value: 0.0'"
      ]
     },
     "execution_count": 31,
     "metadata": {},
     "output_type": "execute_result"
    }
   ],
   "source": [
    "#Finding the p-value\n",
    "\"p-value: {}\".format((null_vals >= diff_obs).mean())"
   ]
  },
  {
   "cell_type": "markdown",
   "metadata": {},
   "source": [
    "**Comment: there is a statistical significance difference between the purchase values observed in each group, treatment and control, since we got a p-value lower than 0.05. That way, we reject the null hypothesis.**"
   ]
  },
  {
   "cell_type": "markdown",
   "metadata": {},
   "source": [
    "## **4 - Checking the difference in NIR since we confirmed a statistical difference**"
   ]
  },
  {
   "cell_type": "code",
   "execution_count": 32,
   "metadata": {
    "scrolled": true
   },
   "outputs": [
    {
     "name": "stdout",
     "output_type": "stream",
     "text": [
      "nir: -2334.5999999999995\n"
     ]
    }
   ],
   "source": [
    "nir = (10 * train_data_exp.query(\"purchase==1\").shape[0] - 0.15 * train_data_exp.shape[0]) - 10 * train_data_ctr.query(\"purchase==1\").shape[0]\n",
    "print(\"nir: {}\".format(nir))"
   ]
  },
  {
   "cell_type": "markdown",
   "metadata": {},
   "source": [
    "**Current result: having a negative NIR says to us that although the experiment has a statistical significance, there's no practical significance. It means, we should probably find the same (or better) result in revenue even if we didn'd do any advertising promotions.**"
   ]
  },
  {
   "cell_type": "markdown",
   "metadata": {},
   "source": [
    "## **5 - EDA**\n",
    "Let's check our features variables"
   ]
  },
  {
   "cell_type": "code",
   "execution_count": 33,
   "metadata": {},
   "outputs": [
    {
     "data": {
      "image/png": "[encoded data removed]",
      "text/plain": [
       "<matplotlib.figure.Figure at 0x7f90277f4470>"
      ]
     },
     "metadata": {
      "needs_background": "light"
     },
     "output_type": "display_data"
    }
   ],
   "source": [
    "#Ploting the distribution of our features for individuals that bought the product\n",
    "features = ['V1', 'V2', 'V3', 'V4', 'V5', 'V6', 'V7']\n",
    "train_data.query(\"purchase==1\")[features].hist(figsize=(10,10));"
   ]
  },
  {
   "cell_type": "code",
   "execution_count": 34,
   "metadata": {},
   "outputs": [
    {
     "data": {
      "image/png": "[encoded data removed]",
      "text/plain": [
       "<matplotlib.figure.Figure at 0x7f9027460828>"
      ]
     },
     "metadata": {
      "needs_background": "light"
     },
     "output_type": "display_data"
    }
   ],
   "source": [
    "#Ploting the distribution of our features for individuals that did not buy the product\n",
    "train_data.query(\"purchase==0\")[features].hist(figsize=(10,10));"
   ]
  },
  {
   "cell_type": "markdown",
   "metadata": {},
   "source": [
    "**Comment: comparing these two scenarios, we do not see a great difference between the group that bought and the group that did not buy**"
   ]
  },
  {
   "cell_type": "markdown",
   "metadata": {},
   "source": [
    "## **6 - trying to improve our results (create a model to offer a promotion to individuals that has a higher likelyhood of buying the product)**"
   ]
  },
  {
   "cell_type": "markdown",
   "metadata": {},
   "source": [
    "Let's first check if we have a great difference in any feature between the individuals that buy or not our product"
   ]
  },
  {
   "cell_type": "code",
   "execution_count": 35,
   "metadata": {},
   "outputs": [
    {
     "data": {
      "image/png": "[encoded data removed]",
      "text/plain": [
       "<matplotlib.figure.Figure at 0x7f902741efd0>"
      ]
     },
     "metadata": {
      "needs_background": "light"
     },
     "output_type": "display_data"
    }
   ],
   "source": [
    "#Ploting the distribution of our features for individuals that bought the product\n",
    "features = ['V1', 'V2', 'V3', 'V4', 'V5', 'V6', 'V7']\n",
    "train_data.query(\"purchase==1\")[features].hist(figsize=(10,10));"
   ]
  },
  {
   "cell_type": "code",
   "execution_count": 36,
   "metadata": {},
   "outputs": [
    {
     "data": {
      "image/png": "[encoded data removed]",
      "text/plain": [
       "<matplotlib.figure.Figure at 0x7f9026e545c0>"
      ]
     },
     "metadata": {
      "needs_background": "light"
     },
     "output_type": "display_data"
    }
   ],
   "source": [
    "#Ploting the distribution of our features for individuals that did not buy the product\n",
    "train_data.query(\"purchase==0\")[features].hist(figsize=(10,10));"
   ]
  },
  {
   "cell_type": "markdown",
   "metadata": {},
   "source": [
    "**Comment: comparing these two scenarios, we do not see a great difference between the group that bought and the group that did not buy**\n",
    "\n",
    "**Next step is create a model to offer a promotion to individuals that has a higher likelihood of buying the product**"
   ]
  },
  {
   "cell_type": "code",
   "execution_count": 38,
   "metadata": {
    "scrolled": true
   },
   "outputs": [
    {
     "data": {
      "text/html": [
       "<div>\n",
       "<style scoped>\n",
       "    .dataframe tbody tr th:only-of-type {\n",
       "        vertical-align: middle;\n",
       "    }\n",
       "\n",
       "    .dataframe tbody tr th {\n",
       "        vertical-align: top;\n",
       "    }\n",
       "\n",
       "    .dataframe thead th {\n",
       "        text-align: right;\n",
       "    }\n",
       "</style>\n",
       "<table border=\"1\" class=\"dataframe\">\n",
       "  <thead>\n",
       "    <tr style=\"text-align: right;\">\n",
       "      <th></th>\n",
       "      <th>V1</th>\n",
       "      <th>V2</th>\n",
       "      <th>V3</th>\n",
       "      <th>V4</th>\n",
       "      <th>V5</th>\n",
       "      <th>V6</th>\n",
       "      <th>V7</th>\n",
       "    </tr>\n",
       "  </thead>\n",
       "  <tbody>\n",
       "    <tr>\n",
       "      <th>0</th>\n",
       "      <td>2</td>\n",
       "      <td>30.443518</td>\n",
       "      <td>-1.165083</td>\n",
       "      <td>1</td>\n",
       "      <td>1</td>\n",
       "      <td>3</td>\n",
       "      <td>2</td>\n",
       "    </tr>\n",
       "    <tr>\n",
       "      <th>1</th>\n",
       "      <td>3</td>\n",
       "      <td>32.159350</td>\n",
       "      <td>-0.645617</td>\n",
       "      <td>2</td>\n",
       "      <td>3</td>\n",
       "      <td>2</td>\n",
       "      <td>2</td>\n",
       "    </tr>\n",
       "    <tr>\n",
       "      <th>2</th>\n",
       "      <td>2</td>\n",
       "      <td>30.431659</td>\n",
       "      <td>0.133583</td>\n",
       "      <td>1</td>\n",
       "      <td>1</td>\n",
       "      <td>4</td>\n",
       "      <td>2</td>\n",
       "    </tr>\n",
       "    <tr>\n",
       "      <th>3</th>\n",
       "      <td>0</td>\n",
       "      <td>26.588914</td>\n",
       "      <td>-0.212728</td>\n",
       "      <td>2</td>\n",
       "      <td>1</td>\n",
       "      <td>4</td>\n",
       "      <td>2</td>\n",
       "    </tr>\n",
       "    <tr>\n",
       "      <th>4</th>\n",
       "      <td>3</td>\n",
       "      <td>28.044332</td>\n",
       "      <td>-0.385883</td>\n",
       "      <td>1</td>\n",
       "      <td>1</td>\n",
       "      <td>2</td>\n",
       "      <td>2</td>\n",
       "    </tr>\n",
       "  </tbody>\n",
       "</table>\n",
       "</div>"
      ],
      "text/plain": [
       "   V1         V2        V3  V4  V5  V6  V7\n",
       "0   2  30.443518 -1.165083   1   1   3   2\n",
       "1   3  32.159350 -0.645617   2   3   2   2\n",
       "2   2  30.431659  0.133583   1   1   4   2\n",
       "3   0  26.588914 -0.212728   2   1   4   2\n",
       "4   3  28.044332 -0.385883   1   1   2   2"
      ]
     },
     "execution_count": 38,
     "metadata": {},
     "output_type": "execute_result"
    }
   ],
   "source": [
    "#Dropping the columns that are not our features\n",
    "train_data_2 = train_data.drop(columns=['ID','purchase','Promotion'], axis=1)\n",
    "train_data_2.head()"
   ]
  },
  {
   "cell_type": "code",
   "execution_count": 39,
   "metadata": {},
   "outputs": [],
   "source": [
    "#Separate the columns with integer as type in order to create dummy variables only for these ones\n",
    "cols = list(train_data_2.select_dtypes(int).columns)"
   ]
  },
  {
   "cell_type": "code",
   "execution_count": 40,
   "metadata": {},
   "outputs": [
    {
     "data": {
      "text/plain": [
       "['V1', 'V4', 'V5', 'V6', 'V7']"
      ]
     },
     "execution_count": 40,
     "metadata": {},
     "output_type": "execute_result"
    }
   ],
   "source": [
    "cols"
   ]
  },
  {
   "cell_type": "code",
   "execution_count": 41,
   "metadata": {},
   "outputs": [],
   "source": [
    "#Generating a new dataframe with the dummy variables\n",
    "train_data_dum = pd.get_dummies(train_data_2, columns=cols, drop_first=True)"
   ]
  },
  {
   "cell_type": "code",
   "execution_count": 42,
   "metadata": {},
   "outputs": [
    {
     "data": {
      "text/html": [
       "<div>\n",
       "<style scoped>\n",
       "    .dataframe tbody tr th:only-of-type {\n",
       "        vertical-align: middle;\n",
       "    }\n",
       "\n",
       "    .dataframe tbody tr th {\n",
       "        vertical-align: top;\n",
       "    }\n",
       "\n",
       "    .dataframe thead th {\n",
       "        text-align: right;\n",
       "    }\n",
       "</style>\n",
       "<table border=\"1\" class=\"dataframe\">\n",
       "  <thead>\n",
       "    <tr style=\"text-align: right;\">\n",
       "      <th></th>\n",
       "      <th>V2</th>\n",
       "      <th>V3</th>\n",
       "      <th>V1_1</th>\n",
       "      <th>V1_2</th>\n",
       "      <th>V1_3</th>\n",
       "      <th>V4_2</th>\n",
       "      <th>V5_2</th>\n",
       "      <th>V5_3</th>\n",
       "      <th>V5_4</th>\n",
       "      <th>V6_2</th>\n",
       "      <th>V6_3</th>\n",
       "      <th>V6_4</th>\n",
       "      <th>V7_2</th>\n",
       "    </tr>\n",
       "  </thead>\n",
       "  <tbody>\n",
       "    <tr>\n",
       "      <th>0</th>\n",
       "      <td>30.443518</td>\n",
       "      <td>-1.165083</td>\n",
       "      <td>0</td>\n",
       "      <td>1</td>\n",
       "      <td>0</td>\n",
       "      <td>0</td>\n",
       "      <td>0</td>\n",
       "      <td>0</td>\n",
       "      <td>0</td>\n",
       "      <td>0</td>\n",
       "      <td>1</td>\n",
       "      <td>0</td>\n",
       "      <td>1</td>\n",
       "    </tr>\n",
       "    <tr>\n",
       "      <th>1</th>\n",
       "      <td>32.159350</td>\n",
       "      <td>-0.645617</td>\n",
       "      <td>0</td>\n",
       "      <td>0</td>\n",
       "      <td>1</td>\n",
       "      <td>1</td>\n",
       "      <td>0</td>\n",
       "      <td>1</td>\n",
       "      <td>0</td>\n",
       "      <td>1</td>\n",
       "      <td>0</td>\n",
       "      <td>0</td>\n",
       "      <td>1</td>\n",
       "    </tr>\n",
       "    <tr>\n",
       "      <th>2</th>\n",
       "      <td>30.431659</td>\n",
       "      <td>0.133583</td>\n",
       "      <td>0</td>\n",
       "      <td>1</td>\n",
       "      <td>0</td>\n",
       "      <td>0</td>\n",
       "      <td>0</td>\n",
       "      <td>0</td>\n",
       "      <td>0</td>\n",
       "      <td>0</td>\n",
       "      <td>0</td>\n",
       "      <td>1</td>\n",
       "      <td>1</td>\n",
       "    </tr>\n",
       "    <tr>\n",
       "      <th>3</th>\n",
       "      <td>26.588914</td>\n",
       "      <td>-0.212728</td>\n",
       "      <td>0</td>\n",
       "      <td>0</td>\n",
       "      <td>0</td>\n",
       "      <td>1</td>\n",
       "      <td>0</td>\n",
       "      <td>0</td>\n",
       "      <td>0</td>\n",
       "      <td>0</td>\n",
       "      <td>0</td>\n",
       "      <td>1</td>\n",
       "      <td>1</td>\n",
       "    </tr>\n",
       "    <tr>\n",
       "      <th>4</th>\n",
       "      <td>28.044332</td>\n",
       "      <td>-0.385883</td>\n",
       "      <td>0</td>\n",
       "      <td>0</td>\n",
       "      <td>1</td>\n",
       "      <td>0</td>\n",
       "      <td>0</td>\n",
       "      <td>0</td>\n",
       "      <td>0</td>\n",
       "      <td>1</td>\n",
       "      <td>0</td>\n",
       "      <td>0</td>\n",
       "      <td>1</td>\n",
       "    </tr>\n",
       "  </tbody>\n",
       "</table>\n",
       "</div>"
      ],
      "text/plain": [
       "          V2        V3  V1_1  V1_2  V1_3  V4_2  V5_2  V5_3  V5_4  V6_2  V6_3  \\\n",
       "0  30.443518 -1.165083     0     1     0     0     0     0     0     0     1   \n",
       "1  32.159350 -0.645617     0     0     1     1     0     1     0     1     0   \n",
       "2  30.431659  0.133583     0     1     0     0     0     0     0     0     0   \n",
       "3  26.588914 -0.212728     0     0     0     1     0     0     0     0     0   \n",
       "4  28.044332 -0.385883     0     0     1     0     0     0     0     1     0   \n",
       "\n",
       "   V6_4  V7_2  \n",
       "0     0     1  \n",
       "1     0     1  \n",
       "2     1     1  \n",
       "3     1     1  \n",
       "4     0     1  "
      ]
     },
     "execution_count": 42,
     "metadata": {},
     "output_type": "execute_result"
    }
   ],
   "source": [
    "train_data_dum.head()"
   ]
  },
  {
   "cell_type": "code",
   "execution_count": 43,
   "metadata": {},
   "outputs": [],
   "source": [
    "#Split into feature and label / train and test\n",
    "X = train_data_dum\n",
    "y = train_data['purchase']\n",
    "\n",
    "X_train, X_test, y_train, y_test = train_test_split(X, y, test_size=0.2, random_state=42)\n"
   ]
  },
  {
   "cell_type": "code",
   "execution_count": 44,
   "metadata": {},
   "outputs": [],
   "source": [
    "#Creating a pipeline first for our model, including a standardizing process, and then check for best params using GridSearch \n",
    "#process\n",
    "pipeline = Pipeline([\n",
    "    ('scaler', StandardScaler()),\n",
    "    ('clf', AdaBoostClassifier(DecisionTreeClassifier(random_state=42), random_state=24))\n",
    "])\n",
    "\n",
    "params = {\n",
    "    'clf__base_estimator__class_weight': [None, 'balanced'],\n",
    "    'clf__base_estimator__max_leaf_nodes': [3, 4],\n",
    "    'clf__n_estimators': [100, 200],\n",
    "    'clf__learning_rate': [1, 0.6]\n",
    "}\n",
    "    \n",
    "    \n",
    "cv = GridSearchCV(pipeline, param_grid=params, scoring='recall', verbose=3)"
   ]
  },
  {
   "cell_type": "code",
   "execution_count": 45,
   "metadata": {},
   "outputs": [
    {
     "name": "stdout",
     "output_type": "stream",
     "text": [
      "Fitting 3 folds for each of 16 candidates, totalling 48 fits\n",
      "[CV] clf__base_estimator__class_weight=None, clf__base_estimator__max_leaf_nodes=3, clf__learning_rate=1, clf__n_estimators=100 \n",
      "[CV]  clf__base_estimator__class_weight=None, clf__base_estimator__max_leaf_nodes=3, clf__learning_rate=1, clf__n_estimators=100, score=0.0, total=   5.5s\n",
      "[CV] clf__base_estimator__class_weight=None, clf__base_estimator__max_leaf_nodes=3, clf__learning_rate=1, clf__n_estimators=100 \n"
     ]
    },
    {
     "name": "stderr",
     "output_type": "stream",
     "text": [
      "[Parallel(n_jobs=1)]: Done   1 out of   1 | elapsed:    6.1s remaining:    0.0s\n"
     ]
    },
    {
     "name": "stdout",
     "output_type": "stream",
     "text": [
      "[CV]  clf__base_estimator__class_weight=None, clf__base_estimator__max_leaf_nodes=3, clf__learning_rate=1, clf__n_estimators=100, score=0.0, total=   5.2s\n",
      "[CV] clf__base_estimator__class_weight=None, clf__base_estimator__max_leaf_nodes=3, clf__learning_rate=1, clf__n_estimators=100 \n"
     ]
    },
    {
     "name": "stderr",
     "output_type": "stream",
     "text": [
      "[Parallel(n_jobs=1)]: Done   2 out of   2 | elapsed:   11.9s remaining:    0.0s\n"
     ]
    },
    {
     "name": "stdout",
     "output_type": "stream",
     "text": [
      "[CV]  clf__base_estimator__class_weight=None, clf__base_estimator__max_leaf_nodes=3, clf__learning_rate=1, clf__n_estimators=100, score=0.0, total=   5.3s\n",
      "[CV] clf__base_estimator__class_weight=None, clf__base_estimator__max_leaf_nodes=3, clf__learning_rate=1, clf__n_estimators=200 \n",
      "[CV]  clf__base_estimator__class_weight=None, clf__base_estimator__max_leaf_nodes=3, clf__learning_rate=1, clf__n_estimators=200, score=0.0, total=  10.7s\n",
      "[CV] clf__base_estimator__class_weight=None, clf__base_estimator__max_leaf_nodes=3, clf__learning_rate=1, clf__n_estimators=200 \n",
      "[CV]  clf__base_estimator__class_weight=None, clf__base_estimator__max_leaf_nodes=3, clf__learning_rate=1, clf__n_estimators=200, score=0.0, total=  10.4s\n",
      "[CV] clf__base_estimator__class_weight=None, clf__base_estimator__max_leaf_nodes=3, clf__learning_rate=1, clf__n_estimators=200 \n",
      "[CV]  clf__base_estimator__class_weight=None, clf__base_estimator__max_leaf_nodes=3, clf__learning_rate=1, clf__n_estimators=200, score=0.0, total=  10.7s\n",
      "[CV] clf__base_estimator__class_weight=None, clf__base_estimator__max_leaf_nodes=3, clf__learning_rate=0.6, clf__n_estimators=100 \n",
      "[CV]  clf__base_estimator__class_weight=None, clf__base_estimator__max_leaf_nodes=3, clf__learning_rate=0.6, clf__n_estimators=100, score=0.0, total=   5.4s\n",
      "[CV] clf__base_estimator__class_weight=None, clf__base_estimator__max_leaf_nodes=3, clf__learning_rate=0.6, clf__n_estimators=100 \n",
      "[CV]  clf__base_estimator__class_weight=None, clf__base_estimator__max_leaf_nodes=3, clf__learning_rate=0.6, clf__n_estimators=100, score=0.0, total=   5.4s\n",
      "[CV] clf__base_estimator__class_weight=None, clf__base_estimator__max_leaf_nodes=3, clf__learning_rate=0.6, clf__n_estimators=100 \n",
      "[CV]  clf__base_estimator__class_weight=None, clf__base_estimator__max_leaf_nodes=3, clf__learning_rate=0.6, clf__n_estimators=100, score=0.0, total=   5.3s\n",
      "[CV] clf__base_estimator__class_weight=None, clf__base_estimator__max_leaf_nodes=3, clf__learning_rate=0.6, clf__n_estimators=200 \n",
      "[CV]  clf__base_estimator__class_weight=None, clf__base_estimator__max_leaf_nodes=3, clf__learning_rate=0.6, clf__n_estimators=200, score=0.0, total=  10.8s\n",
      "[CV] clf__base_estimator__class_weight=None, clf__base_estimator__max_leaf_nodes=3, clf__learning_rate=0.6, clf__n_estimators=200 \n",
      "[CV]  clf__base_estimator__class_weight=None, clf__base_estimator__max_leaf_nodes=3, clf__learning_rate=0.6, clf__n_estimators=200, score=0.0, total=  10.8s\n",
      "[CV] clf__base_estimator__class_weight=None, clf__base_estimator__max_leaf_nodes=3, clf__learning_rate=0.6, clf__n_estimators=200 \n",
      "[CV]  clf__base_estimator__class_weight=None, clf__base_estimator__max_leaf_nodes=3, clf__learning_rate=0.6, clf__n_estimators=200, score=0.0, total=  10.7s\n",
      "[CV] clf__base_estimator__class_weight=None, clf__base_estimator__max_leaf_nodes=4, clf__learning_rate=1, clf__n_estimators=100 \n",
      "[CV]  clf__base_estimator__class_weight=None, clf__base_estimator__max_leaf_nodes=4, clf__learning_rate=1, clf__n_estimators=100, score=0.0, total=   6.2s\n",
      "[CV] clf__base_estimator__class_weight=None, clf__base_estimator__max_leaf_nodes=4, clf__learning_rate=1, clf__n_estimators=100 \n",
      "[CV]  clf__base_estimator__class_weight=None, clf__base_estimator__max_leaf_nodes=4, clf__learning_rate=1, clf__n_estimators=100, score=0.0, total=   6.0s\n",
      "[CV] clf__base_estimator__class_weight=None, clf__base_estimator__max_leaf_nodes=4, clf__learning_rate=1, clf__n_estimators=100 \n",
      "[CV]  clf__base_estimator__class_weight=None, clf__base_estimator__max_leaf_nodes=4, clf__learning_rate=1, clf__n_estimators=100, score=0.0036101083032490976, total=   5.9s\n",
      "[CV] clf__base_estimator__class_weight=None, clf__base_estimator__max_leaf_nodes=4, clf__learning_rate=1, clf__n_estimators=200 \n",
      "[CV]  clf__base_estimator__class_weight=None, clf__base_estimator__max_leaf_nodes=4, clf__learning_rate=1, clf__n_estimators=200, score=0.0035971223021582736, total=  12.1s\n",
      "[CV] clf__base_estimator__class_weight=None, clf__base_estimator__max_leaf_nodes=4, clf__learning_rate=1, clf__n_estimators=200 \n",
      "[CV]  clf__base_estimator__class_weight=None, clf__base_estimator__max_leaf_nodes=4, clf__learning_rate=1, clf__n_estimators=200, score=0.0, total=  11.9s\n",
      "[CV] clf__base_estimator__class_weight=None, clf__base_estimator__max_leaf_nodes=4, clf__learning_rate=1, clf__n_estimators=200 \n",
      "[CV]  clf__base_estimator__class_weight=None, clf__base_estimator__max_leaf_nodes=4, clf__learning_rate=1, clf__n_estimators=200, score=0.0, total=  12.0s\n",
      "[CV] clf__base_estimator__class_weight=None, clf__base_estimator__max_leaf_nodes=4, clf__learning_rate=0.6, clf__n_estimators=100 \n",
      "[CV]  clf__base_estimator__class_weight=None, clf__base_estimator__max_leaf_nodes=4, clf__learning_rate=0.6, clf__n_estimators=100, score=0.0, total=   6.2s\n",
      "[CV] clf__base_estimator__class_weight=None, clf__base_estimator__max_leaf_nodes=4, clf__learning_rate=0.6, clf__n_estimators=100 \n",
      "[CV]  clf__base_estimator__class_weight=None, clf__base_estimator__max_leaf_nodes=4, clf__learning_rate=0.6, clf__n_estimators=100, score=0.0, total=   5.9s\n",
      "[CV] clf__base_estimator__class_weight=None, clf__base_estimator__max_leaf_nodes=4, clf__learning_rate=0.6, clf__n_estimators=100 \n",
      "[CV]  clf__base_estimator__class_weight=None, clf__base_estimator__max_leaf_nodes=4, clf__learning_rate=0.6, clf__n_estimators=100, score=0.0, total=   5.8s\n",
      "[CV] clf__base_estimator__class_weight=None, clf__base_estimator__max_leaf_nodes=4, clf__learning_rate=0.6, clf__n_estimators=200 \n",
      "[CV]  clf__base_estimator__class_weight=None, clf__base_estimator__max_leaf_nodes=4, clf__learning_rate=0.6, clf__n_estimators=200, score=0.0, total=  12.2s\n",
      "[CV] clf__base_estimator__class_weight=None, clf__base_estimator__max_leaf_nodes=4, clf__learning_rate=0.6, clf__n_estimators=200 \n",
      "[CV]  clf__base_estimator__class_weight=None, clf__base_estimator__max_leaf_nodes=4, clf__learning_rate=0.6, clf__n_estimators=200, score=0.0, total=  11.8s\n",
      "[CV] clf__base_estimator__class_weight=None, clf__base_estimator__max_leaf_nodes=4, clf__learning_rate=0.6, clf__n_estimators=200 \n",
      "[CV]  clf__base_estimator__class_weight=None, clf__base_estimator__max_leaf_nodes=4, clf__learning_rate=0.6, clf__n_estimators=200, score=0.0, total=  11.8s\n",
      "[CV] clf__base_estimator__class_weight=balanced, clf__base_estimator__max_leaf_nodes=3, clf__learning_rate=1, clf__n_estimators=100 \n",
      "[CV]  clf__base_estimator__class_weight=balanced, clf__base_estimator__max_leaf_nodes=3, clf__learning_rate=1, clf__n_estimators=100, score=0.4352517985611511, total=   6.3s\n",
      "[CV] clf__base_estimator__class_weight=balanced, clf__base_estimator__max_leaf_nodes=3, clf__learning_rate=1, clf__n_estimators=100 \n",
      "[CV]  clf__base_estimator__class_weight=balanced, clf__base_estimator__max_leaf_nodes=3, clf__learning_rate=1, clf__n_estimators=100, score=0.4151624548736462, total=   5.8s\n",
      "[CV] clf__base_estimator__class_weight=balanced, clf__base_estimator__max_leaf_nodes=3, clf__learning_rate=1, clf__n_estimators=100 \n",
      "[CV]  clf__base_estimator__class_weight=balanced, clf__base_estimator__max_leaf_nodes=3, clf__learning_rate=1, clf__n_estimators=100, score=0.4007220216606498, total=   6.0s\n",
      "[CV] clf__base_estimator__class_weight=balanced, clf__base_estimator__max_leaf_nodes=3, clf__learning_rate=1, clf__n_estimators=200 \n",
      "[CV]  clf__base_estimator__class_weight=balanced, clf__base_estimator__max_leaf_nodes=3, clf__learning_rate=1, clf__n_estimators=200, score=0.3489208633093525, total=  12.7s\n",
      "[CV] clf__base_estimator__class_weight=balanced, clf__base_estimator__max_leaf_nodes=3, clf__learning_rate=1, clf__n_estimators=200 \n",
      "[CV]  clf__base_estimator__class_weight=balanced, clf__base_estimator__max_leaf_nodes=3, clf__learning_rate=1, clf__n_estimators=200, score=0.35018050541516244, total=  11.7s\n",
      "[CV] clf__base_estimator__class_weight=balanced, clf__base_estimator__max_leaf_nodes=3, clf__learning_rate=1, clf__n_estimators=200 \n",
      "[CV]  clf__base_estimator__class_weight=balanced, clf__base_estimator__max_leaf_nodes=3, clf__learning_rate=1, clf__n_estimators=200, score=0.34296028880866425, total=  11.8s\n",
      "[CV] clf__base_estimator__class_weight=balanced, clf__base_estimator__max_leaf_nodes=3, clf__learning_rate=0.6, clf__n_estimators=100 \n",
      "[CV]  clf__base_estimator__class_weight=balanced, clf__base_estimator__max_leaf_nodes=3, clf__learning_rate=0.6, clf__n_estimators=100, score=0.48201438848920863, total=   6.2s\n",
      "[CV] clf__base_estimator__class_weight=balanced, clf__base_estimator__max_leaf_nodes=3, clf__learning_rate=0.6, clf__n_estimators=100 \n",
      "[CV]  clf__base_estimator__class_weight=balanced, clf__base_estimator__max_leaf_nodes=3, clf__learning_rate=0.6, clf__n_estimators=100, score=0.4729241877256318, total=   5.9s\n",
      "[CV] clf__base_estimator__class_weight=balanced, clf__base_estimator__max_leaf_nodes=3, clf__learning_rate=0.6, clf__n_estimators=100 \n",
      "[CV]  clf__base_estimator__class_weight=balanced, clf__base_estimator__max_leaf_nodes=3, clf__learning_rate=0.6, clf__n_estimators=100, score=0.4584837545126354, total=   5.8s\n",
      "[CV] clf__base_estimator__class_weight=balanced, clf__base_estimator__max_leaf_nodes=3, clf__learning_rate=0.6, clf__n_estimators=200 \n",
      "[CV]  clf__base_estimator__class_weight=balanced, clf__base_estimator__max_leaf_nodes=3, clf__learning_rate=0.6, clf__n_estimators=200, score=0.46402877697841727, total=  12.0s\n",
      "[CV] clf__base_estimator__class_weight=balanced, clf__base_estimator__max_leaf_nodes=3, clf__learning_rate=0.6, clf__n_estimators=200 \n",
      "[CV]  clf__base_estimator__class_weight=balanced, clf__base_estimator__max_leaf_nodes=3, clf__learning_rate=0.6, clf__n_estimators=200, score=0.3935018050541516, total=  12.1s\n",
      "[CV] clf__base_estimator__class_weight=balanced, clf__base_estimator__max_leaf_nodes=3, clf__learning_rate=0.6, clf__n_estimators=200 \n",
      "[CV]  clf__base_estimator__class_weight=balanced, clf__base_estimator__max_leaf_nodes=3, clf__learning_rate=0.6, clf__n_estimators=200, score=0.4043321299638989, total=  11.8s\n",
      "[CV] clf__base_estimator__class_weight=balanced, clf__base_estimator__max_leaf_nodes=4, clf__learning_rate=1, clf__n_estimators=100 \n",
      "[CV]  clf__base_estimator__class_weight=balanced, clf__base_estimator__max_leaf_nodes=4, clf__learning_rate=1, clf__n_estimators=100, score=0.38848920863309355, total=   6.7s\n",
      "[CV] clf__base_estimator__class_weight=balanced, clf__base_estimator__max_leaf_nodes=4, clf__learning_rate=1, clf__n_estimators=100 \n",
      "[CV]  clf__base_estimator__class_weight=balanced, clf__base_estimator__max_leaf_nodes=4, clf__learning_rate=1, clf__n_estimators=100, score=0.3862815884476534, total=   6.5s\n",
      "[CV] clf__base_estimator__class_weight=balanced, clf__base_estimator__max_leaf_nodes=4, clf__learning_rate=1, clf__n_estimators=100 \n",
      "[CV]  clf__base_estimator__class_weight=balanced, clf__base_estimator__max_leaf_nodes=4, clf__learning_rate=1, clf__n_estimators=100, score=0.38267148014440433, total=   7.0s\n",
      "[CV] clf__base_estimator__class_weight=balanced, clf__base_estimator__max_leaf_nodes=4, clf__learning_rate=1, clf__n_estimators=200 \n",
      "[CV]  clf__base_estimator__class_weight=balanced, clf__base_estimator__max_leaf_nodes=4, clf__learning_rate=1, clf__n_estimators=200, score=0.24820143884892087, total=  13.1s\n",
      "[CV] clf__base_estimator__class_weight=balanced, clf__base_estimator__max_leaf_nodes=4, clf__learning_rate=1, clf__n_estimators=200 \n",
      "[CV]  clf__base_estimator__class_weight=balanced, clf__base_estimator__max_leaf_nodes=4, clf__learning_rate=1, clf__n_estimators=200, score=0.27075812274368233, total=  13.0s\n",
      "[CV] clf__base_estimator__class_weight=balanced, clf__base_estimator__max_leaf_nodes=4, clf__learning_rate=1, clf__n_estimators=200 \n",
      "[CV]  clf__base_estimator__class_weight=balanced, clf__base_estimator__max_leaf_nodes=4, clf__learning_rate=1, clf__n_estimators=200, score=0.2490974729241877, total=  14.6s\n",
      "[CV] clf__base_estimator__class_weight=balanced, clf__base_estimator__max_leaf_nodes=4, clf__learning_rate=0.6, clf__n_estimators=100 \n",
      "[CV]  clf__base_estimator__class_weight=balanced, clf__base_estimator__max_leaf_nodes=4, clf__learning_rate=0.6, clf__n_estimators=100, score=0.420863309352518, total=   6.7s\n",
      "[CV] clf__base_estimator__class_weight=balanced, clf__base_estimator__max_leaf_nodes=4, clf__learning_rate=0.6, clf__n_estimators=100 \n",
      "[CV]  clf__base_estimator__class_weight=balanced, clf__base_estimator__max_leaf_nodes=4, clf__learning_rate=0.6, clf__n_estimators=100, score=0.4296028880866426, total=   6.5s\n",
      "[CV] clf__base_estimator__class_weight=balanced, clf__base_estimator__max_leaf_nodes=4, clf__learning_rate=0.6, clf__n_estimators=100 \n",
      "[CV]  clf__base_estimator__class_weight=balanced, clf__base_estimator__max_leaf_nodes=4, clf__learning_rate=0.6, clf__n_estimators=100, score=0.4007220216606498, total=   6.7s\n",
      "[CV] clf__base_estimator__class_weight=balanced, clf__base_estimator__max_leaf_nodes=4, clf__learning_rate=0.6, clf__n_estimators=200 \n",
      "[CV]  clf__base_estimator__class_weight=balanced, clf__base_estimator__max_leaf_nodes=4, clf__learning_rate=0.6, clf__n_estimators=200, score=0.34532374100719426, total=  13.2s\n",
      "[CV] clf__base_estimator__class_weight=balanced, clf__base_estimator__max_leaf_nodes=4, clf__learning_rate=0.6, clf__n_estimators=200 \n",
      "[CV]  clf__base_estimator__class_weight=balanced, clf__base_estimator__max_leaf_nodes=4, clf__learning_rate=0.6, clf__n_estimators=200, score=0.34296028880866425, total=  13.4s\n",
      "[CV] clf__base_estimator__class_weight=balanced, clf__base_estimator__max_leaf_nodes=4, clf__learning_rate=0.6, clf__n_estimators=200 \n",
      "[CV]  clf__base_estimator__class_weight=balanced, clf__base_estimator__max_leaf_nodes=4, clf__learning_rate=0.6, clf__n_estimators=200, score=0.296028880866426, total=  13.1s\n"
     ]
    },
    {
     "name": "stderr",
     "output_type": "stream",
     "text": [
      "[Parallel(n_jobs=1)]: Done  48 out of  48 | elapsed:  7.9min finished\n"
     ]
    },
    {
     "data": {
      "text/plain": [
       "GridSearchCV(cv=None, error_score='raise',\n",
       "       estimator=Pipeline(memory=None,\n",
       "     steps=[('scaler', StandardScaler(copy=True, with_mean=True, with_std=True)), ('clf', AdaBoostClassifier(algorithm='SAMME.R',\n",
       "          base_estimator=DecisionTreeClassifier(class_weight=None, criterion='gini', max_depth=None,\n",
       "            max_features=None, max_leaf_nodes=None,\n",
       "            min_impuri...e=42,\n",
       "            splitter='best'),\n",
       "          learning_rate=1.0, n_estimators=50, random_state=24))]),\n",
       "       fit_params=None, iid=True, n_jobs=1,\n",
       "       param_grid={'clf__base_estimator__class_weight': [None, 'balanced'], 'clf__base_estimator__max_leaf_nodes': [3, 4], 'clf__n_estimators': [100, 200], 'clf__learning_rate': [1, 0.6]},\n",
       "       pre_dispatch='2*n_jobs', refit=True, return_train_score='warn',\n",
       "       scoring='recall', verbose=3)"
      ]
     },
     "execution_count": 45,
     "metadata": {},
     "output_type": "execute_result"
    }
   ],
   "source": [
    "#Fit the model\n",
    "cv.fit(X_train, y_train)"
   ]
  },
  {
   "cell_type": "code",
   "execution_count": 46,
   "metadata": {},
   "outputs": [
    {
     "data": {
      "text/plain": [
       "{'clf__base_estimator__class_weight': 'balanced',\n",
       " 'clf__base_estimator__max_leaf_nodes': 3,\n",
       " 'clf__learning_rate': 0.6,\n",
       " 'clf__n_estimators': 100}"
      ]
     },
     "execution_count": 46,
     "metadata": {},
     "output_type": "execute_result"
    }
   ],
   "source": [
    "#Checking the best params\n",
    "cv.best_params_"
   ]
  },
  {
   "cell_type": "code",
   "execution_count": 47,
   "metadata": {},
   "outputs": [],
   "source": [
    "#Predict in the test data\n",
    "y_pred = cv.predict(X_test)"
   ]
  },
  {
   "cell_type": "code",
   "execution_count": 48,
   "metadata": {},
   "outputs": [
    {
     "data": {
      "text/plain": [
       "(array([ 0.5,  1.5]), <a list of 2 Text yticklabel objects>)"
      ]
     },
     "execution_count": 48,
     "metadata": {},
     "output_type": "execute_result"
    },
    {
     "data": {
      "image/png": "[encoded data removed]",
      "text/plain": [
       "<matplotlib.figure.Figure at 0x7f902704b4e0>"
      ]
     },
     "metadata": {
      "needs_background": "light"
     },
     "output_type": "display_data"
    }
   ],
   "source": [
    "#Confusion matrix to evaluate our model\n",
    "y_true = y_test\n",
    "y_pred = y_pred\n",
    "data = confusion_matrix(y_true, y_pred)\n",
    "\n",
    "\n",
    "ax=sns.heatmap(data, annot=True, fmt='n')\n",
    "ax.set_xticklabels(['Actual Positive', 'Actual Negative']) \n",
    "ax.set_yticklabels(['Predicted Positive','Predicted Negative'])\n",
    "plt.yticks(rotation=45)"
   ]
  },
  {
   "cell_type": "code",
   "execution_count": 49,
   "metadata": {},
   "outputs": [],
   "source": [
    "#Classification report \n",
    "def display_result (y_test, y_pred):\n",
    "    #labels = list(y_test.unique())\n",
    "    cl_report = classification_report(y_test, y_pred)\n",
    "    \n",
    "    print(\"Classification Report:\\n\", cl_report)"
   ]
  },
  {
   "cell_type": "code",
   "execution_count": 50,
   "metadata": {},
   "outputs": [
    {
     "name": "stdout",
     "output_type": "stream",
     "text": [
      "Classification Report:\n",
      "              precision    recall  f1-score   support\n",
      "\n",
      "          0       0.99      0.61      0.75     16699\n",
      "          1       0.02      0.52      0.03       208\n",
      "\n",
      "avg / total       0.98      0.60      0.74     16907\n",
      "\n"
     ]
    }
   ],
   "source": [
    "display_result(y_test, y_pred)"
   ]
  },
  {
   "cell_type": "markdown",
   "metadata": {},
   "source": [
    "**Comment: the metric used to evaluate our model, since we have an imbalanced data, was recall. After training the model, we got a recall equals to 0.52 in the class with less quantity.**"
   ]
  },
  {
   "cell_type": "code",
   "execution_count": 51,
   "metadata": {},
   "outputs": [],
   "source": [
    "def promotion_strategy(df):\n",
    "    '''\n",
    "    INPUT \n",
    "    df - a dataframe with *only* the columns V1 - V7 (same as train_data)\n",
    "\n",
    "    OUTPUT\n",
    "    promotion_df - np.array with the values\n",
    "                   'Yes' or 'No' related to whether or not an \n",
    "                   individual should recieve a promotion \n",
    "                   should be the length of df.shape[0]\n",
    "                \n",
    "    Ex:\n",
    "    INPUT: df\n",
    "    \n",
    "    V1\tV2\t  V3\tV4\tV5\tV6\tV7\n",
    "    2\t30\t-1.1\t1\t1\t3\t2\n",
    "    3\t32\t-0.6\t2\t3\t2\t2\n",
    "    2\t30\t0.13\t1\t1\t4\t2\n",
    "    \n",
    "    OUTPUT: promotion\n",
    "    \n",
    "    array(['Yes', 'Yes', 'No'])\n",
    "    indicating the first two users would recieve the promotion and \n",
    "    the last should not.\n",
    "    '''\n",
    "    \n",
    "    X = df\n",
    "    cols = list(X.select_dtypes(int).columns)\n",
    "    X_dum = pd.get_dummies(X, columns=cols, drop_first=True)\n",
    "    y_pred = cv.predict(X_dum)\n",
    "\n",
    "    promotion = []\n",
    "    for pred in y_pred:\n",
    "        if pred == 1:\n",
    "            promotion.append('Yes')\n",
    "        else:\n",
    "            promotion.append('No')\n",
    "    \n",
    "    promotion = np.array(promotion)\n",
    "    \n",
    "    \n",
    "    return promotion"
   ]
  },
  {
   "cell_type": "code",
   "execution_count": 52,
   "metadata": {},
   "outputs": [
    {
     "name": "stdout",
     "output_type": "stream",
     "text": [
      "Nice job!  See how well your strategy worked on our test data below!\n",
      "\n",
      "Your irr with this strategy is 0.0179.\n",
      "\n",
      "Your nir with this strategy is 228.05.\n",
      "We came up with a model with an irr of 0.0188 and an nir of 189.45 on the test set.\n",
      "\n",
      " How did you do?\n"
     ]
    },
    {
     "data": {
      "text/plain": [
       "(0.017942849521412403, 228.04999999999995)"
      ]
     },
     "execution_count": 52,
     "metadata": {},
     "output_type": "execute_result"
    }
   ],
   "source": [
    "# This will test the results, and provide you back some information \n",
    "# on how well your promotion_strategy will work in practice\n",
    "\n",
    "test_results(promotion_strategy)"
   ]
  },
  {
   "cell_type": "code",
   "execution_count": null,
   "metadata": {},
   "outputs": [],
   "source": []
  }
 ],
 "metadata": {
  "kernelspec": {
   "display_name": "Python 3",
   "language": "python",
   "name": "python3"
  },
  "language_info": {
   "codemirror_mode": {
    "name": "ipython",
    "version": 3
   },
   "file_extension": ".py",
   "mimetype": "text/x-python",
   "name": "python",
   "nbconvert_exporter": "python",
   "pygments_lexer": "ipython3",
   "version": "3.6.3"
  }
 },
 "nbformat": 4,
 "nbformat_minor": 2
}
